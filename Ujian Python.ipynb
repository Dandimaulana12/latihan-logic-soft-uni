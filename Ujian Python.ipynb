{
  "nbformat": 4,
  "nbformat_minor": 0,
  "metadata": {
    "colab": {
      "provenance": []
    },
    "kernelspec": {
      "name": "python3",
      "display_name": "Python 3"
    },
    "language_info": {
      "name": "python"
    }
  },
  "cells": [
    {
      "cell_type": "markdown",
      "source": [
        "###Ujian Basics Programming"
      ],
      "metadata": {
        "id": "C13BKkJix8g4"
      }
    },
    {
      "cell_type": "code",
      "execution_count": null,
      "metadata": {
        "colab": {
          "base_uri": "https://localhost:8080/"
        },
        "id": "OTn7xBLXrI8A",
        "outputId": "ee174b0b-bf7f-4f85-c88e-31996126b6a7"
      },
      "outputs": [
        {
          "output_type": "stream",
          "name": "stdout",
          "text": [
            "320\n",
            "711.68\n"
          ]
        }
      ],
      "source": [
        "#1. Basketball Equipment\n",
        "fee = int(input())\n",
        "price_shoes = fee * (40/100)\n",
        "hasil_shoes = fee - price_shoes\n",
        "price_suit = hasil_shoes * (20/100)\n",
        "hasil_suit = hasil_shoes - price_suit\n",
        "price_ball = (1/4)* hasil_suit\n",
        "price_accesoris = (1/5) * price_ball\n",
        "total = fee + hasil_shoes + hasil_suit + price_ball + price_accesoris\n",
        "print(f'{total:.2f}')"
      ]
    },
    {
      "cell_type": "code",
      "source": [
        "#2. Football results\n",
        "first_match = input()\n",
        "second_match = input()\n",
        "third_match = input()\n",
        "\n",
        "point_win = 0\n",
        "point_lose = 0\n",
        "point_draw = 0\n",
        "\n",
        "angka1_first = int(first_match[0:1])\n",
        "angka2_first = int(first_match[2:3])\n",
        "\n",
        "angka1_second = int(second_match[0:1])\n",
        "angka2_second = int(second_match[2:3])\n",
        "\n",
        "angka1_third = int(third_match[0:1])\n",
        "angka2_third = int(third_match[2:3])\n",
        "\n",
        "if angka1_first > angka2_first :\n",
        "  point_win = point_win + 1\n",
        "elif angka2_first > angka1_first:\n",
        "  point_lose = point_lose + 1\n",
        "elif angka1_first == angka2_first:\n",
        "  point_draw = point_draw + 1\n",
        "\n",
        "if angka1_second > angka2_second :\n",
        "  point_win = point_win + 1\n",
        "elif angka2_second > angka1_second:\n",
        "  point_lose = point_lose + 1\n",
        "elif angka1_second == angka2_second:\n",
        "  point_draw = point_draw + 1\n",
        "\n",
        "\n",
        "if angka1_third > angka2_third :\n",
        "  point_win = point_win + 1\n",
        "elif angka2_third > angka1_third:\n",
        "  point_lose = point_lose + 1\n",
        "elif angka1_third == angka2_third:\n",
        "  point_draw = point_draw + 1\n",
        "\n",
        "print(f'Team won {point_win} games.')\n",
        "print(f'Team lost {point_lose} games.')\n",
        "print(f'Drawn games: {point_draw}')"
      ],
      "metadata": {
        "colab": {
          "base_uri": "https://localhost:8080/"
        },
        "id": "Z3ROGvSQ2j25",
        "outputId": "9663278f-5c1b-4821-ed23-426c63f17eff"
      },
      "execution_count": null,
      "outputs": [
        {
          "output_type": "stream",
          "name": "stdout",
          "text": [
            "3:1\n",
            "0:2\n",
            "0:0\n",
            "Team Won 1 Games\n",
            "Team Lost 1 Games\n",
            "Drawn Games :1\n"
          ]
        }
      ]
    },
    {
      "cell_type": "code",
      "source": [
        "#3. Gymnastics\n",
        "\n",
        "negara = input()\n",
        "aparatus = input()\n",
        "\n",
        "difficult = 0\n",
        "performance = 0\n",
        "\n",
        "if negara == \"Russia\":\n",
        "  if aparatus == \"ribbon\":\n",
        "    difficult = 9.100\n",
        "    performance = 9.400\n",
        "  elif aparatus == \"hoop\":\n",
        "    difficult = 9.300\n",
        "    performance = 9.800\n",
        "  elif aparatus == \"rope\":\n",
        "    difficult = 9.600\n",
        "    performance = 9.000\n",
        "if negara == \"Bulgaria\":\n",
        "  if aparatus == \"ribbon\":\n",
        "    difficult = 9.600\n",
        "    performance = 9.400\n",
        "  elif aparatus == \"hoop\":\n",
        "    difficult = 9.550\n",
        "    performance = 9.750\n",
        "  elif aparatus == \"rope\":\n",
        "    difficult = 9.500\n",
        "    performance = 9.400\n",
        "if negara == \"Italy\":\n",
        "  if aparatus == \"ribbon\":\n",
        "    difficult = 9.200\n",
        "    performance = 9.500\n",
        "  elif aparatus == \"hoop\":\n",
        "    difficult = 9.450\n",
        "    performance = 9.350\n",
        "  elif aparatus == \"rope\":\n",
        "    difficult = 9.700\n",
        "    performance = 9.150\n",
        "\n",
        "hasil = difficult+performance\n",
        "remaining = 20 - hasil\n",
        "total = (remaining/20) * 100\n",
        "\n",
        "print(f'The team of {negara} get {hasil:.3f} on {aparatus}.\\n{total:.2f}%')"
      ],
      "metadata": {
        "colab": {
          "base_uri": "https://localhost:8080/"
        },
        "id": "nRoy6Nfo9opo",
        "outputId": "8e31acc6-a9c1-4f79-9acf-0c26cd0bd633"
      },
      "execution_count": null,
      "outputs": [
        {
          "output_type": "stream",
          "name": "stdout",
          "text": [
            "Russia\n",
            "rope\n",
            "The team of russia get 18.600 on rope. 7.00%\n"
          ]
        }
      ]
    },
    {
      "cell_type": "code",
      "source": [],
      "metadata": {
        "id": "koJIuCHTnpw5"
      },
      "execution_count": null,
      "outputs": []
    }
  ]
}