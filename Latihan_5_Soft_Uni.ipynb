{
  "nbformat": 4,
  "nbformat_minor": 0,
  "metadata": {
    "colab": {
      "provenance": []
    },
    "kernelspec": {
      "name": "python3",
      "display_name": "Python 3"
    },
    "language_info": {
      "name": "python"
    }
  },
  "cells": [
    {
      "cell_type": "markdown",
      "source": [
        "# Latihan 6"
      ],
      "metadata": {
        "id": "FLY5TjgfGu1F"
      }
    },
    {
      "cell_type": "code",
      "source": [
        "# 1.\tCinema\n",
        "\n",
        "tipe = input().lower()\n",
        "baris = int(input())\n",
        "kolom = int(input())\n",
        "\n",
        "if tipe == \"premiere\":\n",
        "  price = 12.00\n",
        "elif tipe == \"normal\":\n",
        "  price = 7.50\n",
        "elif tipe == \"discount\":\n",
        "  price = 5.00\n",
        "\n",
        "jumlah_bangku = baris * kolom\n",
        "total = price * jumlah_bangku\n",
        "print(f'{total:.2f} USD')\n"
      ],
      "metadata": {
        "colab": {
          "base_uri": "https://localhost:8080/"
        },
        "id": "MWm04UauG2HE",
        "outputId": "6246774a-0511-4a02-c3ae-b204dc98ca9e"
      },
      "execution_count": null,
      "outputs": [
        {
          "output_type": "stream",
          "name": "stdout",
          "text": [
            "premiere\n",
            "10\n",
            "12\n",
            "1440.00 USD\n"
          ]
        }
      ]
    },
    {
      "cell_type": "code",
      "source": [
        "# 2. Summer Outfit\n",
        "degrees = int(input())\n",
        "time_of_day = input()\n",
        "\n",
        "if time_of_day == \"Morning\":\n",
        "  if 10 <= degrees <= 18:\n",
        "    outfit = \"Sweatshirt\"\n",
        "    shoes = \"Sneakers\"\n",
        "  elif 18 < degrees <= 24:\n",
        "    outfit = \"Shirt\"\n",
        "    shoes = \"Moccasins\"\n",
        "  else:\n",
        "    outfit = \"T-Shirt\"\n",
        "    shoes = \"Sandals\"\n",
        "elif time_of_day == \"Afternoon\":\n",
        "  if 10 <= degrees <= 18:\n",
        "    outfit = \"Shirt\"\n",
        "    shoes = \"Moccasins\"\n",
        "  elif 18 < degrees <= 24:\n",
        "    outfit = \"T-Shirt\"\n",
        "    shoes = \"Sandals\"\n",
        "  else:\n",
        "    outfit = \"Shirt\"\n",
        "    shoes = \"Barefoot\"\n",
        "elif time_of_day == \"Evening\":\n",
        "    outfit = \"Shirt\"\n",
        "    shoes = \"Moccasins\"\n",
        "\n",
        "print(f\"It's {degrees} degrees, get your {outfit} and {shoes}.\")"
      ],
      "metadata": {
        "colab": {
          "base_uri": "https://localhost:8080/"
        },
        "id": "ZiY4oTEwOMcU",
        "outputId": "cbf1cf6e-975a-4035-db4c-26f87fa09253"
      },
      "execution_count": null,
      "outputs": [
        {
          "output_type": "stream",
          "name": "stdout",
          "text": [
            "28\n",
            "evening\n",
            "It's 28 degrees, get your Shirt and Moccasins.\n"
          ]
        }
      ]
    },
    {
      "cell_type": "code",
      "source": [
        "# 3.\tNew House\n",
        "jenis_bunga = input()\n",
        "q_bunga = int(input())\n",
        "budget = int(input())\n",
        "\n",
        "price_roses = 5\n",
        "price_dahlias = 3.80\n",
        "price_tulips = 2.80\n",
        "price_narcissus = 3\n",
        "price_gladiolus = 2.50\n",
        "harga = 0\n",
        "diskon = 0\n",
        "if jenis_bunga == \"Roses\":\n",
        "  if q_bunga > 80:\n",
        "    harga = q_bunga * price_roses\n",
        "    diskon = 10/100\n",
        "    total_diskon = harga * diskon\n",
        "    harga = harga - total_diskon\n",
        "  else:\n",
        "    harga = q_bunga * price_roses\n",
        "elif jenis_bunga == \"Dahlias\":\n",
        "  if q_bunga > 90:\n",
        "    harga = q_bunga * price_dahlias\n",
        "    diskon = 15/100\n",
        "    total_diskon = harga * diskon\n",
        "    harga = harga - total_diskon\n",
        "  else:\n",
        "    harga = q_bunga * price_dahlias\n",
        "elif jenis_bunga == \"Tulips\":\n",
        "  if q_bunga > 80:\n",
        "    harga = q_bunga * price_tulips\n",
        "    diskon = 15/100\n",
        "    total_diskon = harga * diskon\n",
        "    harga = harga - total_diskon\n",
        "  else:\n",
        "    harga = q_bunga * price_tulips\n",
        "elif jenis_bunga == \"Narcissus\":\n",
        "  if q_bunga < 120:\n",
        "    harga = q_bunga * price_narcissus\n",
        "    diskon = 15/100\n",
        "    total_diskon = harga * diskon\n",
        "    harga = harga + total_diskon\n",
        "  else:\n",
        "    harga = q_bunga * price_narcissus\n",
        "elif jenis_bunga == \"Gladiolus\":\n",
        "  if q_bunga < 80:\n",
        "    harga = q_bunga * price_gladiolus\n",
        "    diskon = 20/100\n",
        "    total_diskon = harga * diskon\n",
        "    harga = harga + total_diskon\n",
        "  else:\n",
        "    harga = q_bunga * price_gladiolus\n",
        "\n",
        "if budget < harga:\n",
        "  print(f\"Not enough money, you need {harga-budget:.2f} USD more.\")\n",
        "else:\n",
        "  print(f\"Hey, you have a great garden with {q_bunga} {jenis_bunga} and {budget-harga:.2f} USD left.\")\n",
        "\n"
      ],
      "metadata": {
        "colab": {
          "base_uri": "https://localhost:8080/"
        },
        "id": "0Y6E8WDLbVaX",
        "outputId": "df77163c-455e-42e7-d2f5-fe959a0757eb"
      },
      "execution_count": null,
      "outputs": [
        {
          "output_type": "stream",
          "name": "stdout",
          "text": [
            "Narcissus\n",
            "119\n",
            "360\n",
            "Not enough money, you need 50.55 USD more.\n"
          ]
        }
      ]
    },
    {
      "cell_type": "code",
      "source": [
        "# 4.\tFishing Boat\n",
        "\n",
        "budget = int(input())\n",
        "season = input().lower()\n",
        "person = int(input())\n",
        "if season == \"spring\":\n",
        "  price = 3000\n",
        "elif season == \"autumn\" or season == \"summer\":\n",
        "  price = 4200\n",
        "elif season == \"winter\":\n",
        "  price = 2600\n",
        "\n",
        "if person <= 6:\n",
        "  disc = 0.10\n",
        "elif person <= 11:\n",
        "  disc = 0.15\n",
        "else:\n",
        "  disc = 0.25\n",
        "\n",
        "if season != \"autumn\" and person % 2 == 0 :\n",
        "  add_discount = 0.05\n",
        "else:\n",
        "  add_discount = 0.0\n",
        "\n",
        "total = price * (1- disc - add_discount)\n",
        "\n",
        "if budget < total:\n",
        "  print(f\"Not enough money! You need {total - budget:.2f} USD.\")\n",
        "else:\n",
        "  print(f\"Yes! You have {budget - total:.2f} USD left.\")"
      ],
      "metadata": {
        "colab": {
          "base_uri": "https://localhost:8080/"
        },
        "id": "HYwVr_CPp_02",
        "outputId": "260f97f2-9dc4-4da9-c669-5774ef8dcda7"
      },
      "execution_count": null,
      "outputs": [
        {
          "output_type": "stream",
          "name": "stdout",
          "text": [
            "2000\n",
            "winter\n",
            "13\n",
            "Yes! You have 50.00 USD left.\n"
          ]
        }
      ]
    },
    {
      "cell_type": "code",
      "source": [
        "# 5.\tJourney\n",
        "\n",
        "budget = float(input())\n",
        "season = input().lower()\n",
        "\n",
        "if budget <= 100:\n",
        "  if season == \"summer\":\n",
        "    city = \"Bulgaria\"\n",
        "    rest = \"Camp\"\n",
        "    disc = 30/100\n",
        "  elif season == \"winter\":\n",
        "    city = \"Bulgaria\"\n",
        "    rest = \"Hotel\"\n",
        "    disc = 0.70\n",
        "if 100 < budget <= 1000:\n",
        "  if season == \"summer\":\n",
        "    city = \"Balkans\"\n",
        "    rest = \"Camp\"\n",
        "    disc = 0.40\n",
        "  elif season == \"winter\":\n",
        "    city = \"Balkans\"\n",
        "    rest = \"Hotel\"\n",
        "    disc = 0.80\n",
        "elif budget > 1000:\n",
        "  rest = \"Hotel\"\n",
        "  city = \"Europe\"\n",
        "  disc = 0.90\n",
        "\n",
        "print(f\"Somewhere in {city} \\n{rest} - {budget * disc:.2f}\")"
      ],
      "metadata": {
        "colab": {
          "base_uri": "https://localhost:8080/"
        },
        "id": "3hFO_wNH60wx",
        "outputId": "2d5972a1-843d-495d-dc81-5824ef8144f7"
      },
      "execution_count": null,
      "outputs": [
        {
          "output_type": "stream",
          "name": "stdout",
          "text": [
            "1500\n",
            "summer\n",
            "Somewhere in Europe \n",
            "Hotel - 1350.00\n"
          ]
        }
      ]
    },
    {
      "cell_type": "code",
      "source": [
        "# 6.\tOperations Between Numbers\n",
        "n1 = int(input())\n",
        "n2 = int(input())\n",
        "opr = input()\n",
        "\n",
        "if opr == \"+\" or opr == \"-\" or opr == \"*\":\n",
        "  if opr == \"+\":\n",
        "    hasil = n1 + n2\n",
        "  elif opr == \"-\":\n",
        "    hasil = n1 - n2\n",
        "  elif opr == \"*\":\n",
        "    hasil = n1 * n2\n",
        "\n",
        "  if hasil % 2 == 0:\n",
        "    print(f'{n1} {opr} {n2} = {hasil} - even')\n",
        "  else:\n",
        "    print(f'{n1} {opr} {n2} = {hasil} - odd')\n",
        "elif opr == \"/\" or opr == \"%\":\n",
        "  if n1 == 0:\n",
        "      print(f'Cannot divide {n2} by zero')\n",
        "  elif n2 == 0:\n",
        "      print(f'Cannot divide {n1} by zero')\n",
        "  else:\n",
        "    if opr == \"/\":\n",
        "      hasil = n1 / n2\n",
        "      print(f'{n1} {opr} {n2} = {hasil}')\n",
        "    elif opr == \"%\":\n",
        "      hasil = n1 % n2\n",
        "      print(f'{n1} {opr} {n2} = {hasil}')\n"
      ],
      "metadata": {
        "colab": {
          "base_uri": "https://localhost:8080/"
        },
        "id": "9ts2w56XdVfn",
        "outputId": "c875d255-a7f2-46ba-e7fb-2169026f7ef7"
      },
      "execution_count": null,
      "outputs": [
        {
          "output_type": "stream",
          "name": "stdout",
          "text": [
            "10\n",
            "0\n",
            "%\n",
            "Cannot divide 0 by zero\n"
          ]
        }
      ]
    },
    {
      "cell_type": "code",
      "source": [
        "# 7.\tHotel Room\n",
        "month = input().lower()\n",
        "number_night = int(input())\n",
        "disc_apart = 0\n",
        "disc_studio = 0\n",
        "if month == \"may\" or month == \"october\":\n",
        "  if 7 > number_night >= 14:\n",
        "    disc_studio = 0.05\n",
        "  elif number_night > 14:\n",
        "    disc_studio = 0.30\n",
        "    disc_apart = 0.10\n",
        "  studio = 50\n",
        "  apartement = 65\n",
        "elif month == \"june\" or month == \"september\":\n",
        "  if number_night > 14:\n",
        "    disc_apart = 0.10\n",
        "    disc_studio = 0.20\n",
        "  studio = 75.20\n",
        "  apartement = 68.70\n",
        "elif month == \"july\" or month == \"august\":\n",
        "  if number_night > 14:\n",
        "    disc_apart = 0.10\n",
        "  else:\n",
        "    disc_apart = 0.0\n",
        "  studio = 76\n",
        "  apartement = 77\n",
        "\n",
        "total_studio = studio * number_night\n",
        "total_apart = apartement * number_night\n",
        "total_studio = total_studio * (1 - disc_studio)\n",
        "total_apart  = total_apart * (1 - disc_apart)\n",
        "\n",
        "if number_night > 14 and month ==\"august\":\n",
        "  print(f\"Apartment: {total_apart:.2f} USD.\")\n",
        "  print(f\"Studio: {total_studio:.2f} USd.\")\n",
        "else:\n",
        "  print(f\"Apartment: {total_apart:.2f} USD.\")\n",
        "  print(f\"Studio: {total_studio:.2f} USD.\")"
      ],
      "metadata": {
        "colab": {
          "base_uri": "https://localhost:8080/"
        },
        "id": "op947pxoJ9eC",
        "outputId": "ee63b2b7-abdb-4ae5-871e-53b2b02666ba"
      },
      "execution_count": null,
      "outputs": [
        {
          "output_type": "stream",
          "name": "stdout",
          "text": [
            "june\n",
            "14\n",
            "Apartment: 961.80 USD.\n",
            "Studio: 1052.80 USD.\n"
          ]
        }
      ]
    },
    {
      "cell_type": "code",
      "source": [
        "# 8.\tOn Time for the Exam\n",
        "\n",
        "first_hours = int(input())\n",
        "first_minutes = int(input())\n",
        "second_hours = int(input())\n",
        "second_minutes = int(input())\n",
        "\n",
        "h_exam = first_hours * 60 + first_minutes\n",
        "h_arrival = second_hours * 60 + second_minutes\n",
        "\n",
        "t_exam = h_arrival - h_exam\n",
        "\n",
        "if t_exam > 0:\n",
        "  hours = abs(t_exam) // 60\n",
        "  minutes = abs(hours) * 60\n",
        "  minutes = abs(t_exam) - minutes\n",
        "  if minutes == 0:\n",
        "    minutes = f'{minutes}'*2\n",
        "\n",
        "  if hours > 0:\n",
        "    print(f'Late \\n{abs(hours)}:{minutes} hours after the start')\n",
        "  else:\n",
        "    print(f'Late \\n{abs(t_exam)} minutes after the start')\n",
        "elif -30 <= t_exam < 0:\n",
        "  print(f'On time \\n{abs(t_exam)} minutes before the start')\n",
        "elif t_exam == 0:\n",
        "  print(f'On time')\n",
        "else:\n",
        "  hours = abs(t_exam) // 60\n",
        "  minutes = abs(hours) * 60\n",
        "  minutes = abs(t_exam) - minutes\n",
        "  if minutes == 0:\n",
        "    minutes = f'{minutes}'*2\n",
        "\n",
        "  if hours > 0:\n",
        "    print(f'Early \\n{abs(hours)}:{minutes} hours before the start')\n",
        "  else:\n",
        "    print(f'Early \\n{abs(t_exam)} minutes before the start')\n",
        "\n"
      ],
      "metadata": {
        "colab": {
          "base_uri": "https://localhost:8080/"
        },
        "id": "XOE0yXQrcsTD",
        "outputId": "17a02674-e15c-4062-824e-5c343fb68f8b"
      },
      "execution_count": null,
      "outputs": [
        {
          "output_type": "stream",
          "name": "stdout",
          "text": [
            "9\n",
            "00\n",
            "10\n",
            "30\n",
            "Late \n",
            "1:30 hours before the start\n"
          ]
        }
      ]
    },
    {
      "cell_type": "code",
      "source": [
        "# 9.\tSki Trip\n",
        "\n",
        "days = int(input())\n",
        "type_room = input().lower()\n",
        "grade = input().lower()\n",
        "\n",
        "disc = 0.0\n",
        "add_disc = 0.0\n",
        "night = days - 1\n",
        "if type_room == \"room for one person\":\n",
        "  price = 18\n",
        "  disc = 0.0\n",
        "elif type_room == \"apartment\":\n",
        "  price = 25\n",
        "  if days < 10:\n",
        "    disc = 0.30\n",
        "  elif 10 <= days <= 15:\n",
        "    disc = 0.35\n",
        "  elif days > 15:\n",
        "    disc = 0.50\n",
        "elif type_room == \"president apartment\":\n",
        "  price = 35\n",
        "  if days < 10:\n",
        "    disc = 0.10\n",
        "  elif 10 <= days <= 15:\n",
        "    disc = 0.15\n",
        "  elif days > 15:\n",
        "    disc = 0.20\n",
        "\n",
        "if grade == \"positive\":\n",
        "  add_disc = 0.25\n",
        "  total = price * night\n",
        "  total = total * (1 - disc) * (1 + add_disc)\n",
        "elif grade == \"negative\":\n",
        "  add_disc = 0.10\n",
        "  total = price * night\n",
        "  total = total * (1 - disc)\n",
        "  total = total * (1- add_disc)\n",
        "\n",
        "print(f'{total:.2f}')"
      ],
      "metadata": {
        "colab": {
          "base_uri": "https://localhost:8080/"
        },
        "id": "_uXP3td2VHj1",
        "outputId": "ab801779-826e-452a-8236-47cb0fab8975"
      },
      "execution_count": null,
      "outputs": [
        {
          "output_type": "stream",
          "name": "stdout",
          "text": [
            "30\n",
            "president apartment\n",
            "negative\n",
            "730.80\n"
          ]
        }
      ]
    }
  ]
}