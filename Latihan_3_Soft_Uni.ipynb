{
  "nbformat": 4,
  "nbformat_minor": 0,
  "metadata": {
    "colab": {
      "provenance": []
    },
    "kernelspec": {
      "name": "python3",
      "display_name": "Python 3"
    },
    "language_info": {
      "name": "python"
    }
  },
  "cells": [
    {
      "cell_type": "markdown",
      "source": [
        "# **latihan 4**"
      ],
      "metadata": {
        "id": "N1-WO0P0cJgu"
      }
    },
    {
      "cell_type": "code",
      "source": [
        "# 1.    Sum Seconds\n",
        "\n",
        "time_first = int(input())\n",
        "time_second = int(input())\n",
        "time_third = int(input())\n",
        "\n",
        "total_time = time_first + time_second + time_third\n",
        "minutes = total_time // 60\n",
        "seconds = total_time % 60\n",
        "\n",
        "if seconds < 10:\n",
        "  print(f\"{minutes}:0{seconds}\")\n",
        "else:\n",
        "  print(f\"{minutes}:{seconds}\")"
      ],
      "metadata": {
        "colab": {
          "base_uri": "https://localhost:8080/"
        },
        "id": "8xI9mwM2cM7s",
        "outputId": "6a9f4c77-232b-44f2-c892-7b664331fd07"
      },
      "execution_count": null,
      "outputs": [
        {
          "output_type": "stream",
          "name": "stdout",
          "text": [
            "35\n",
            "45\n",
            "44\n",
            "2:04\n"
          ]
        }
      ]
    },
    {
      "cell_type": "code",
      "source": [
        "# 2.\tBonus Score\n",
        "\n",
        "number = int(input())\n",
        "bonus = 0\n",
        "\n",
        "if number <= 100:\n",
        "  bonus = 5\n",
        "elif number > 1000:\n",
        "  bonus = 0.10 * number\n",
        "else:\n",
        "  bonus = 0.20 * number\n",
        "\n",
        "if number % 2 == 0:\n",
        "  bonus+= 1\n",
        "\n",
        "if number % 10 == 5:\n",
        "  bonus+=2\n",
        "\n",
        "print(bonus)\n",
        "print(bonus+number)"
      ],
      "metadata": {
        "colab": {
          "base_uri": "https://localhost:8080/"
        },
        "id": "m_2q2seljlDO",
        "outputId": "6a979fb4-717c-455e-d443-ff58bc92fede"
      },
      "execution_count": null,
      "outputs": [
        {
          "output_type": "stream",
          "name": "stdout",
          "text": [
            "20\n",
            "6\n",
            "26\n"
          ]
        }
      ]
    },
    {
      "cell_type": "code",
      "source": [
        "# 3.\tTime + 15 Minutes\n",
        "\n",
        "hours = int(input())\n",
        "minutes = int(input())\n",
        "\n",
        "extra_time = 15\n",
        "minutes += extra_time\n",
        "minutes_bagi = minutes // 60\n",
        "minutes_sisa = minutes % 60\n",
        "hours += minutes_bagi\n",
        "hours_sisa = hours % 24\n",
        "\n",
        "if hours == 24 :\n",
        "  hours = 0\n",
        "else:\n",
        "  hours = hours_sisa\n",
        "if minutes_sisa < 10:\n",
        "  print(f\"{hours}:0{minutes_sisa}\")\n",
        "else:\n",
        "  print(f\"{hours}:{minutes_sisa}\")\n",
        "\n"
      ],
      "metadata": {
        "colab": {
          "base_uri": "https://localhost:8080/"
        },
        "id": "mjeN7tQHpo8F",
        "outputId": "f696126d-5f7d-4e49-d55c-94adcb84cc18"
      },
      "execution_count": null,
      "outputs": [
        {
          "output_type": "stream",
          "name": "stdout",
          "text": [
            "23\n",
            "120\n",
            "1:15\n"
          ]
        }
      ]
    },
    {
      "cell_type": "code",
      "source": [
        "#  4.\tToy Shop\n",
        "\n",
        "price_puzzles = 2.60\n",
        "price_dolls = 3\n",
        "price_bear = 4.10\n",
        "price_minion = 8.20\n",
        "price_truck = 2\n",
        "diskon = 0\n",
        "total_untung = 0\n",
        "\n",
        "trip = float(input())\n",
        "puzzles = int(input())\n",
        "dolls = int(input())\n",
        "tedy_bear = int(input())\n",
        "minion = int(input())\n",
        "truck = int(input())\n",
        "\n",
        "jumlah_bayar = puzzles * price_puzzles + dolls * price_dolls + tedy_bear * price_bear + minion * price_minion + truck * price_truck\n",
        "jumlah_mainan = puzzles + dolls + tedy_bear + minion + truck\n",
        "\n",
        "if jumlah_mainan >= 50:\n",
        "  diskon = 0.25 * jumlah_bayar\n",
        "  jumlah_bayar = jumlah_bayar - diskon\n",
        "else:\n",
        "  jumlah_bayar = jumlah_bayar + diskon\n",
        "\n",
        "\n",
        "biaya_antar = 0.10 * jumlah_bayar\n",
        "untung = jumlah_bayar - biaya_antar\n",
        "\n",
        "if untung >= trip:\n",
        "  total_untung = untung - trip\n",
        "  print(f\"Yes! {total_untung:.2f} USD left.\")\n",
        "else:\n",
        "  total_untung = trip - untung\n",
        "  print(f\"Not enough money! {total_untung:.2f} USD needed.\")\n",
        "\n"
      ],
      "metadata": {
        "colab": {
          "base_uri": "https://localhost:8080/"
        },
        "id": "OmNGD2W1yLKw",
        "outputId": "fb9b9ccd-5eae-40db-f8d1-679bf8887f8a"
      },
      "execution_count": null,
      "outputs": [
        {
          "output_type": "stream",
          "name": "stdout",
          "text": [
            "40.8\n",
            "20\n",
            "25\n",
            "30\n",
            "50\n",
            "10\n",
            "Yes! 418.2 USD left.\n"
          ]
        }
      ]
    },
    {
      "cell_type": "code",
      "source": [
        "# 5.\tGodzilla vs. Kong\n",
        "\n",
        "budget = float(input())\n",
        "extras = int(input())\n",
        "clothing = float(input())\n",
        "\n",
        "diskon_film = 0.10 * budget\n",
        "price_clothing = extras * clothing\n",
        "\n",
        "if extras >= 150:\n",
        "  diskon_clothing = 0.10 * price_clothing\n",
        "  price_clothing = price_clothing - diskon_clothing\n",
        "  total_movie = diskon_film + price_clothing\n",
        "else:\n",
        "  total_movie = diskon_film + price_clothing\n",
        "\n",
        "\n",
        "if budget < total_movie:\n",
        "\n",
        "  jumlah =  total_movie - budget\n",
        "  print(f\"Not enough money! \\nWingard needs {jumlah:.2f} USD more.\")\n",
        "else:\n",
        "  jumlah = budget - total_movie\n",
        "  print(f\"Action! \\nWingard starts filming with {jumlah:.2f} USD left.\")"
      ],
      "metadata": {
        "colab": {
          "base_uri": "https://localhost:8080/"
        },
        "id": "MezujbH-jJNb",
        "outputId": "915e2e7d-530e-4043-a9a5-a6b571b60efe"
      },
      "execution_count": null,
      "outputs": [
        {
          "output_type": "stream",
          "name": "stdout",
          "text": [
            "9587.88\n",
            "120\n",
            "55.68\n",
            "Action! \n",
            "Wingard starts filming with 1947.49 USD left.\n"
          ]
        }
      ]
    },
    {
      "cell_type": "code",
      "source": [
        "# 6.\tWorld Swimming Record\n",
        "from math import floor\n",
        "record = float(input())\n",
        "meter = float(input())\n",
        "second_permeter = float(input())\n",
        "\n",
        "waktu_sementara = meter * second_permeter\n",
        "per_limabelas = floor(meter/15) * 12.5\n",
        "\n",
        "total_waktu = waktu_sementara + per_limabelas\n",
        "\n",
        "if record <= total_waktu:\n",
        "  print(f\"No, he failed! He was {total_waktu - record:.2f} seconds slower.\")\n",
        "else:\n",
        "  print(f\"Yes, he succeeded! The new world record is {total_waktu:.2f} seconds.\")"
      ],
      "metadata": {
        "colab": {
          "base_uri": "https://localhost:8080/"
        },
        "id": "ts19hmyJqyYZ",
        "outputId": "d246556d-bba0-4e67-8655-fb5c8cf93bec"
      },
      "execution_count": null,
      "outputs": [
        {
          "output_type": "stream",
          "name": "stdout",
          "text": [
            "55555.67\n",
            "3017\n",
            "5.03\n",
            "Yes, he succeeded! The new world record is 17688.01 seconds.\n"
          ]
        }
      ]
    },
    {
      "cell_type": "code",
      "source": [
        "# 7. Shopping\n",
        "\n",
        "price_videocard = 250\n",
        "\n",
        "budget = float(input())\n",
        "video_card = int(input())\n",
        "cpu = int(input())\n",
        "ram = int(input())\n",
        "\n",
        "total_videocard = price_videocard * video_card\n",
        "diskon_percpu = 0.35 * total_videocard\n",
        "total_cpu = diskon_percpu * cpu\n",
        "diskon_ram = 0.10 * total_videocard\n",
        "total_ram = diskon_ram * ram\n",
        "total_price = total_videocard + total_cpu + total_ram\n",
        "\n",
        "if video_card >= cpu:\n",
        "  diskon = 0.15 * total_price\n",
        "  total_price -= diskon\n",
        "else:\n",
        "  total_price = total_price\n",
        "\n",
        "\n",
        "if budget < total_price:\n",
        "  print(f\"Not enough money! You need {total_price-budget:.2f} USD more!\")\n",
        "else:\n",
        "   print(f\"You have {budget-total_price:.2f} USD left!\")\n"
      ],
      "metadata": {
        "colab": {
          "base_uri": "https://localhost:8080/"
        },
        "id": "ictxjcMUwCjw",
        "outputId": "4e478880-afa9-4976-e165-82abb4be8a97"
      },
      "execution_count": null,
      "outputs": [
        {
          "output_type": "stream",
          "name": "stdout",
          "text": [
            "920.45\n",
            "3\n",
            "1\n",
            "1\n",
            "1087.5\n",
            "Not enough money! You need 3.92 USD more!\n"
          ]
        }
      ]
    },
    {
      "cell_type": "code",
      "source": [
        "# 8. Lunch Break\n",
        "from math import floor,ceil\n",
        "nama_film = input()\n",
        "time_film = int(input())\n",
        "time_break = int(input())\n",
        "\n",
        "makan_siang = time_break * 1/8\n",
        "istirahat = time_break * 1/4\n",
        "\n",
        "total_waktu = time_break - makan_siang -istirahat\n",
        "if total_waktu < time_film:\n",
        "  print(f\"You don't have enough time to watch {nama_film}, you need {ceil(time_film-total_waktu)} more minutes.\")\n",
        "else:\n",
        "  print(f\"You have enough time to watch {nama_film} and left with {ceil(total_waktu-time_film)} minutes free time.\")"
      ],
      "metadata": {
        "colab": {
          "base_uri": "https://localhost:8080/"
        },
        "id": "i1-lUvxm1J_V",
        "outputId": "23520cdb-95e7-4cbe-f814-5dbe9c433e78"
      },
      "execution_count": null,
      "outputs": [
        {
          "output_type": "stream",
          "name": "stdout",
          "text": [
            "Ucup\n",
            "60\n",
            "96\n",
            "0.0\n",
            "You have enough time to watch Ucup and left with 0 minutes free time.\n"
          ]
        }
      ]
    }
  ]
}