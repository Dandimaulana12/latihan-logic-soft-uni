{
  "nbformat": 4,
  "nbformat_minor": 0,
  "metadata": {
    "colab": {
      "provenance": []
    },
    "kernelspec": {
      "name": "python3",
      "display_name": "Python 3"
    },
    "language_info": {
      "name": "python"
    }
  },
  "cells": [
    {
      "cell_type": "markdown",
      "source": [
        "#Latihan 7"
      ],
      "metadata": {
        "id": "5-8I2z5ri71y"
      }
    },
    {
      "cell_type": "code",
      "execution_count": null,
      "metadata": {
        "colab": {
          "base_uri": "https://localhost:8080/"
        },
        "id": "vPdeyDy7iUPC",
        "outputId": "8fa93e95-adbb-4ad2-9d89-bbde4e9dd197"
      },
      "outputs": [
        {
          "output_type": "stream",
          "name": "stdout",
          "text": [
            "1\n",
            "2\n",
            "3\n",
            "4\n",
            "5\n",
            "6\n",
            "7\n",
            "8\n",
            "9\n",
            "10\n",
            "11\n",
            "12\n",
            "13\n",
            "14\n",
            "15\n",
            "16\n",
            "17\n",
            "18\n",
            "19\n",
            "20\n",
            "21\n",
            "22\n",
            "23\n",
            "24\n",
            "25\n",
            "26\n",
            "27\n",
            "28\n",
            "29\n",
            "30\n",
            "31\n",
            "32\n",
            "33\n",
            "34\n",
            "35\n",
            "36\n",
            "37\n",
            "38\n",
            "39\n",
            "40\n",
            "41\n",
            "42\n",
            "43\n",
            "44\n",
            "45\n",
            "46\n",
            "47\n",
            "48\n",
            "49\n",
            "50\n",
            "51\n",
            "52\n",
            "53\n",
            "54\n",
            "55\n",
            "56\n",
            "57\n",
            "58\n",
            "59\n",
            "60\n",
            "61\n",
            "62\n",
            "63\n",
            "64\n",
            "65\n",
            "66\n",
            "67\n",
            "68\n",
            "69\n",
            "70\n",
            "71\n",
            "72\n",
            "73\n",
            "74\n",
            "75\n",
            "76\n",
            "77\n",
            "78\n",
            "79\n",
            "80\n",
            "81\n",
            "82\n",
            "83\n",
            "84\n",
            "85\n",
            "86\n",
            "87\n",
            "88\n",
            "89\n",
            "90\n",
            "91\n",
            "92\n",
            "93\n",
            "94\n",
            "95\n",
            "96\n",
            "97\n",
            "98\n",
            "99\n",
            "100\n"
          ]
        }
      ],
      "source": [
        "# 1.\tNumbers from 1 to 100\n",
        "for i in range(1, 100+1):\n",
        "  print(i)"
      ]
    },
    {
      "cell_type": "code",
      "source": [
        "# 2.\tNumbers 1...N with Step 3\n",
        "n = int(input())\n",
        "for i in range(1, n+1, 3):\n",
        "  print(i)"
      ],
      "metadata": {
        "colab": {
          "base_uri": "https://localhost:8080/"
        },
        "id": "R5ke_cc7kc56",
        "outputId": "dff695c5-b254-4226-e97d-5e0b172040e8"
      },
      "execution_count": null,
      "outputs": [
        {
          "output_type": "stream",
          "name": "stdout",
          "text": [
            "7\n",
            "1\n",
            "4\n",
            "7\n"
          ]
        }
      ]
    },
    {
      "cell_type": "code",
      "source": [
        "# 3.\tEven Powers of 2\n",
        "import math\n",
        "n = int(input())\n",
        "\n",
        "number = 1\n",
        "\n",
        "for i in range(0, n+1,2):\n",
        "  number = int(math.pow(2, i))\n",
        "  print(number)"
      ],
      "metadata": {
        "colab": {
          "base_uri": "https://localhost:8080/"
        },
        "id": "h143BLm6lDIF",
        "outputId": "a7337962-b28f-4201-d8eb-2eaccf9e874b"
      },
      "execution_count": null,
      "outputs": [
        {
          "output_type": "stream",
          "name": "stdout",
          "text": [
            "6\n",
            "1\n",
            "4\n",
            "16\n",
            "64\n"
          ]
        }
      ]
    },
    {
      "cell_type": "code",
      "source": [
        "# 4.\tNumbers N…1\n",
        "n = int(input())\n",
        "for i in range(n, 1-1, -1):\n",
        "  print(i)"
      ],
      "metadata": {
        "colab": {
          "base_uri": "https://localhost:8080/"
        },
        "id": "ro_s6bcgmolP",
        "outputId": "0ef69824-1758-428d-f99a-b745541d04b5"
      },
      "execution_count": null,
      "outputs": [
        {
          "output_type": "stream",
          "name": "stdout",
          "text": [
            "2\n",
            "2\n",
            "1\n"
          ]
        }
      ]
    },
    {
      "cell_type": "code",
      "source": [
        "# 5.\tCharacter Sequence\n",
        "\n",
        "huruf = input()\n",
        "\n",
        "for i in huruf:\n",
        "  print(i)"
      ],
      "metadata": {
        "colab": {
          "base_uri": "https://localhost:8080/"
        },
        "id": "VdbDeHf4nDjF",
        "outputId": "1420d623-7738-40bd-c2b4-0b4d048fd2f6"
      },
      "execution_count": null,
      "outputs": [
        {
          "output_type": "stream",
          "name": "stdout",
          "text": [
            "softuni\n",
            "s\n",
            "o\n",
            "f\n",
            "t\n",
            "u\n",
            "n\n",
            "i\n"
          ]
        }
      ]
    },
    {
      "cell_type": "code",
      "source": [
        "# 6.\tVowels Sum\n",
        "kalimat = input().lower()\n",
        "number = 0\n",
        "for i in kalimat:\n",
        "  if i == 'a':\n",
        "    number = number + 1\n",
        "  elif i == 'e':\n",
        "    number = number + 2\n",
        "  elif i == 'i':\n",
        "    number = number + 3\n",
        "  elif i == 'o':\n",
        "    number = number + 4\n",
        "  elif i == 'u':\n",
        "    number = number + 5\n",
        "\n",
        "print(number)"
      ],
      "metadata": {
        "colab": {
          "base_uri": "https://localhost:8080/"
        },
        "id": "g0QQQEM9nUmW",
        "outputId": "79bf33a5-0e1c-4eef-becd-138d7d820a2e"
      },
      "execution_count": null,
      "outputs": [
        {
          "output_type": "stream",
          "name": "stdout",
          "text": [
            "hello\n",
            "6\n"
          ]
        }
      ]
    },
    {
      "cell_type": "code",
      "source": [
        "# 7.\tSum Numbers\n",
        "\n",
        "n = int(input())\n",
        "number = 0\n",
        "for i in range(1, n+1):\n",
        "  isi = int(input())\n",
        "  number =  isi + number\n",
        "\n",
        "print(number)"
      ],
      "metadata": {
        "colab": {
          "base_uri": "https://localhost:8080/"
        },
        "id": "QWveakzypQ-9",
        "outputId": "6d727c6e-1a31-4078-a6ba-a36553ac849b"
      },
      "execution_count": null,
      "outputs": [
        {
          "output_type": "stream",
          "name": "stdout",
          "text": [
            "2\n",
            "10\n",
            "20\n",
            "30\n"
          ]
        }
      ]
    },
    {
      "cell_type": "code",
      "source": [
        "# 8.\tNumber sequence\n",
        "import sys\n",
        "n = int(input())\n",
        "\n",
        "smallest = sys.maxsize\n",
        "biggest = -sys.maxsize\n",
        "\n",
        "for i in range(1, n+1):\n",
        "  number = int(input())\n",
        "  if number > biggest:\n",
        "    biggest = number\n",
        "  if number < smallest:\n",
        "    smallest = number\n",
        "\n",
        "\n",
        "print(f'Max number: {biggest}')\n",
        "print(f'Min number: {smallest}')\n"
      ],
      "metadata": {
        "colab": {
          "base_uri": "https://localhost:8080/"
        },
        "id": "WCrdaHiKqXAA",
        "outputId": "ed6bb2e9-d05a-49f9-a755-42acd1808477"
      },
      "execution_count": null,
      "outputs": [
        {
          "output_type": "stream",
          "name": "stdout",
          "text": [
            "5\n",
            "10\n",
            "20\n",
            "304\n",
            "0\n",
            "50\n",
            "Max number: 304\n",
            "Min number: 0\n"
          ]
        }
      ]
    },
    {
      "cell_type": "code",
      "source": [
        "# 9.\tLeft and Right Sum\n",
        "\n",
        "n = int(input())\n",
        "leftsum = 0\n",
        "rightsum = 0\n",
        "\n",
        "\n",
        "for i in range(1, n+1):\n",
        "  left = int(input())\n",
        "  leftsum = left + leftsum\n",
        "\n",
        "for j in range(1, n+1):\n",
        "  right = int(input())\n",
        "  rightsum = right+rightsum\n",
        "\n",
        "if leftsum == rightsum:\n",
        "  print(f'Yes, sum = {abs(leftsum)}')\n",
        "else:\n",
        "  print(f'No, diff = {abs(leftsum-rightsum)}')"
      ],
      "metadata": {
        "colab": {
          "base_uri": "https://localhost:8080/"
        },
        "id": "ZI9rl6NOtkz-",
        "outputId": "9f1ff097-755f-4836-fae8-199902afb920"
      },
      "execution_count": null,
      "outputs": [
        {
          "output_type": "stream",
          "name": "stdout",
          "text": [
            "2\n",
            "90\n",
            "9\n",
            "50\n",
            "50\n",
            "No, diff = 1\n"
          ]
        }
      ]
    },
    {
      "cell_type": "code",
      "source": [
        "# 10.\tOdd Even Sum\n",
        "\n",
        "n = int(input())\n",
        "\n",
        "oddsum = 0\n",
        "evensum = 0\n",
        "\n",
        "for i in range(1, n+1):\n",
        "  number = int(input())\n",
        "  if i % 2 == 0:\n",
        "    evensum = number + evensum\n",
        "  else:\n",
        "    oddsum = number + oddsum\n",
        "\n",
        "if oddsum == evensum:\n",
        "  print(f'Yes \\nSum = {evensum}')\n",
        "else:\n",
        "  print(f'No \\nDiff = {abs(evensum - oddsum)}')"
      ],
      "metadata": {
        "colab": {
          "base_uri": "https://localhost:8080/"
        },
        "id": "njS48IGluj_D",
        "outputId": "cccad93e-6acd-49bd-db76-2d6b3d474373"
      },
      "execution_count": null,
      "outputs": [
        {
          "output_type": "stream",
          "name": "stdout",
          "text": [
            "3\n",
            "5\n",
            "8\n",
            "1\n",
            "No \n",
            "Diff = 2\n"
          ]
        }
      ]
    }
  ]
}