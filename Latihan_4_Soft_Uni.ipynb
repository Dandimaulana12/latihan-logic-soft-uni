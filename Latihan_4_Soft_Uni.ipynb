{
  "nbformat": 4,
  "nbformat_minor": 0,
  "metadata": {
    "colab": {
      "provenance": []
    },
    "kernelspec": {
      "name": "python3",
      "display_name": "Python 3"
    },
    "language_info": {
      "name": "python"
    }
  },
  "cells": [
    {
      "cell_type": "markdown",
      "source": [
        "# Latihan 5"
      ],
      "metadata": {
        "id": "1Nzr-_vn4lrO"
      }
    },
    {
      "cell_type": "code",
      "source": [
        "# 1.\tDay of Week\n",
        "day = int(input())\n",
        "\n",
        "switcher = {\n",
        "    1: \"Monday\",\n",
        "    2: \"Tuesday\",\n",
        "    3: \"Wednesday\",\n",
        "    4: \"Thursday\",\n",
        "    5: \"Friday\",\n",
        "    6: \"Saturday\",\n",
        "    7: \"Sunday\"\n",
        "}\n",
        "\n",
        "print(switcher.get(day, \"Error\"))"
      ],
      "metadata": {
        "colab": {
          "base_uri": "https://localhost:8080/"
        },
        "id": "DDq4Mv7t4p4M",
        "outputId": "83dbea1e-4a2f-42c0-9858-0089a6d5c962"
      },
      "execution_count": null,
      "outputs": [
        {
          "output_type": "stream",
          "name": "stdout",
          "text": [
            "1\n",
            "Monday\n"
          ]
        }
      ]
    },
    {
      "cell_type": "code",
      "source": [
        "# 2.\tWeekend or Working Day\n",
        "day = input().lower()\n",
        "\n",
        "switcher = {\n",
        "    \"monday\": \"Working day\",\n",
        "    \"tuesday\": \"Working day\",\n",
        "    \"wednesday\": \"Working day\",\n",
        "    \"thursday\": \"Working day\",\n",
        "    \"friday\": \"Working day\",\n",
        "    \"saturday\": \"Weekend\",\n",
        "    \"sunday\": \"Weekend\"\n",
        "}\n",
        "\n",
        "print(switcher.get(day, \"Error\"))"
      ],
      "metadata": {
        "colab": {
          "base_uri": "https://localhost:8080/"
        },
        "id": "UHu9VuUG6EHV",
        "outputId": "3be0d366-1038-497f-d785-27ac6aac3145"
      },
      "execution_count": null,
      "outputs": [
        {
          "output_type": "stream",
          "name": "stdout",
          "text": [
            "april\n",
            "Error\n"
          ]
        }
      ]
    },
    {
      "cell_type": "code",
      "source": [
        "# 3.\tAnimal Type\n",
        "animal = input().lower()\n",
        "\n",
        "switcher = {\n",
        "    \"dog\": \"mammal\",\n",
        "    \"crocodile\": \"reptile\",\n",
        "    \"tortoise\": \"reptile\",\n",
        "    \"snake\": \"reptile\",\n",
        "}\n",
        "\n",
        "print(switcher.get(animal, \"unknown\"))"
      ],
      "metadata": {
        "colab": {
          "base_uri": "https://localhost:8080/"
        },
        "id": "qxcXnQge66tp",
        "outputId": "2b58c471-e1de-4048-f14f-60b5a9282336"
      },
      "execution_count": null,
      "outputs": [
        {
          "output_type": "stream",
          "name": "stdout",
          "text": [
            "dog\n",
            "mammal\n"
          ]
        }
      ]
    },
    {
      "cell_type": "code",
      "source": [
        "# 4.\tPersonal Titles\n",
        "\n",
        "age = float(input())\n",
        "gender = input().lower()\n",
        "\n",
        "if age < 16:\n",
        "  if gender == \"m\":\n",
        "    print(\"Master\")\n",
        "  elif gender == \"f\":\n",
        "    print(\"Miss\")\n",
        "if age >= 16:\n",
        "  if gender == \"m\":\n",
        "    print(\"Mr.\")\n",
        "  elif gender == \"f\":\n",
        "    print(\"Ms.\")"
      ],
      "metadata": {
        "colab": {
          "base_uri": "https://localhost:8080/"
        },
        "id": "jTxAuH2K7tE9",
        "outputId": "501dbeb6-c81d-44b6-d3f7-97814b79495d"
      },
      "execution_count": null,
      "outputs": [
        {
          "output_type": "stream",
          "name": "stdout",
          "text": [
            "13.5\n",
            "m\n",
            "Master\n"
          ]
        }
      ]
    },
    {
      "cell_type": "code",
      "source": [
        "# 5.\tSmall Shop\n",
        "\n",
        "product = input().lower()\n",
        "city = input().lower()\n",
        "quantity = float(input())\n",
        "\n",
        "if city == \"london\":\n",
        "  if product == \"coffee\":\n",
        "    price = 0.50\n",
        "  elif product ==\"water\":\n",
        "    price = 0.80\n",
        "  elif product ==\"beer\":\n",
        "    price = 1.20\n",
        "  elif product ==\"sweets\":\n",
        "    price = 1.45\n",
        "  elif product ==\"peanuts\":\n",
        "    price = 1.60\n",
        "elif city == \"rome\":\n",
        "  if product == \"coffee\":\n",
        "    price = 0.40\n",
        "  elif product ==\"water\":\n",
        "    price = 0.70\n",
        "  elif product ==\"beer\":\n",
        "    price = 1.15\n",
        "  elif product ==\"sweets\":\n",
        "    price = 1.30\n",
        "  elif product ==\"peanuts\":\n",
        "    price = 1.50\n",
        "if city == \"paris\":\n",
        "  if product == \"coffee\":\n",
        "    price = 0.45\n",
        "  elif product ==\"water\":\n",
        "    price = 0.70\n",
        "  elif product ==\"beer\":\n",
        "    price = 1.10\n",
        "  elif product ==\"sweets\":\n",
        "    price = 1.35\n",
        "  elif product ==\"peanuts\":\n",
        "    price = 1.55\n",
        "\n",
        "print(quantity * price)"
      ],
      "metadata": {
        "colab": {
          "base_uri": "https://localhost:8080/"
        },
        "id": "uNnxhJ9E9BfK",
        "outputId": "2fef4bf1-9c7f-4194-c2f3-51aefe210b00"
      },
      "execution_count": null,
      "outputs": [
        {
          "output_type": "stream",
          "name": "stdout",
          "text": [
            "sweets\n",
            "london\n",
            "2.23\n",
            "3.2335\n"
          ]
        }
      ]
    },
    {
      "cell_type": "code",
      "source": [
        "# 6.\tNumber in Range\n",
        "\n",
        "number = int(input())\n",
        "\n",
        "if -100 <= number <= 100 and number != 0:\n",
        "  print(\"Yes\")\n",
        "else:\n",
        "  print(\"No\")"
      ],
      "metadata": {
        "id": "iNitpBwI_0C0"
      },
      "execution_count": null,
      "outputs": []
    },
    {
      "cell_type": "code",
      "source": [
        "# 7.\tWorking Hours\n",
        "\n",
        "hour = int(input())\n",
        "day = input().lower()\n",
        "if day == \"monday\" or day == \"tuesday\" or day == \"wednesday\" or day == \"thursday\" or day == \"friday\" or day == \"saturday\":\n",
        "  if 10 <= hour <= 18:\n",
        "    print(\"open\")\n",
        "  else:\n",
        "    print(\"closed\")\n",
        "elif day ==\"sunday\":\n",
        "  if 10 <= hour <= 18:\n",
        "    print(\"closed\")\n",
        "  else:\n",
        "    print(\"closed\")"
      ],
      "metadata": {
        "colab": {
          "base_uri": "https://localhost:8080/"
        },
        "id": "c9pig9rkAOMc",
        "outputId": "1ff882e5-b702-4dff-9a30-afd164dab6e9"
      },
      "execution_count": null,
      "outputs": [
        {
          "output_type": "stream",
          "name": "stdout",
          "text": [
            "11\n",
            "sunday\n",
            "closed\n"
          ]
        }
      ]
    },
    {
      "cell_type": "code",
      "source": [
        "# 8.\tCinema Ticket\n",
        "\n",
        "day = input().lower()\n",
        "\n",
        "if day == \"monday\" or day == \"tuesday\" or day == \"friday\":\n",
        "  price = 12\n",
        "elif day == \"wednesday\" or day == \"thursday\":\n",
        "  price = 14\n",
        "elif day == \"saturday\" or day == \"sunday\":\n",
        "  price = 16\n",
        "\n",
        "print(price)"
      ],
      "metadata": {
        "colab": {
          "base_uri": "https://localhost:8080/"
        },
        "id": "qZmwKfaLE-EP",
        "outputId": "ae16d411-10e4-4358-d068-90cdcf4b81f1"
      },
      "execution_count": null,
      "outputs": [
        {
          "output_type": "stream",
          "name": "stdout",
          "text": [
            "monday\n",
            "12\n"
          ]
        }
      ]
    },
    {
      "cell_type": "code",
      "source": [
        "# 9.\tFruit or Vegetable\n",
        "\n",
        "product = input().lower()\n",
        "\n",
        "if product == \"banana\" or product == \"apple\" or product == \"kiwi\" or product == \"cherry\" or product == \"lemon\" or product == \"grapes\":\n",
        "  print(\"fruit\")\n",
        "elif product == \"tomato\" or product == \"cucumber\" or product == \"pepper\" or product == \"carrot\":\n",
        "  print(\"vegetable\")\n",
        "else:\n",
        "  print(\"unknown\")"
      ],
      "metadata": {
        "colab": {
          "base_uri": "https://localhost:8080/"
        },
        "id": "gQK2kq2aF7ul",
        "outputId": "3e48465b-7ff9-4003-b5eb-23f32279fdad"
      },
      "execution_count": null,
      "outputs": [
        {
          "output_type": "stream",
          "name": "stdout",
          "text": [
            "banana\n",
            "sss\n",
            "fruit\n"
          ]
        }
      ]
    },
    {
      "cell_type": "code",
      "source": [
        "# 10.\tInvalid Number\n",
        "\n",
        "number = int(input())\n",
        "\n",
        "if 100 <= number <= 200 or number == 0:\n",
        "  pass\n",
        "else:\n",
        "  print(\"invalid\")"
      ],
      "metadata": {
        "colab": {
          "base_uri": "https://localhost:8080/"
        },
        "id": "hlG3IE0OCWfS",
        "outputId": "c4dcda18-2124-4d28-895d-9511eb22787b"
      },
      "execution_count": null,
      "outputs": [
        {
          "name": "stdout",
          "output_type": "stream",
          "text": [
            "0\n"
          ]
        }
      ]
    },
    {
      "cell_type": "code",
      "source": [
        "# 11.\tFruit Shop\n",
        "fruit = input().lower()\n",
        "day = input().lower()\n",
        "jumlah = float(input())\n",
        "\n",
        "if day == \"monday\" or day == \"tuesday\" or day == \"wednesday\" or day == \"thursday\" or day == \"friday\":\n",
        "  if fruit == \"banana\":\n",
        "    price = 2.50\n",
        "    print(f'{price*jumlah:.2f}')\n",
        "  elif fruit == \"apple\":\n",
        "    price = 1.20\n",
        "    print(f'{price*jumlah:.2f}')\n",
        "  elif fruit == \"orange\":\n",
        "    price = 0.85\n",
        "    print(f'{price*jumlah:.2f}')\n",
        "  elif fruit == \"grapefruit\":\n",
        "    price = 1.45\n",
        "    print(f'{price*jumlah:.2f}')\n",
        "  elif fruit == \"kiwi\":\n",
        "    price = 2.70\n",
        "    print(f'{price*jumlah:.2f}')\n",
        "  elif fruit == \"pineapple\":\n",
        "    price = 5.50\n",
        "    print(f'{price*jumlah:.2f}')\n",
        "  elif fruit == \"grapes\":\n",
        "    price = 3.85\n",
        "    print(f'{price*jumlah:.2f}')\n",
        "  else:\n",
        "    print(\"error\")\n",
        "elif day == \"saturday\" or day == \"sunday\":\n",
        "  if fruit == \"banana\":\n",
        "    price = 2.70\n",
        "    print(f'{price*jumlah:.2f}')\n",
        "  elif fruit == \"apple\":\n",
        "    price = 1.25\n",
        "    print(f'{price*jumlah:.2f}')\n",
        "  elif fruit == \"orange\":\n",
        "    price = 0.90\n",
        "    print(f'{price*jumlah:.2f}')\n",
        "  elif fruit == \"grapefruit\":\n",
        "    price = 1.60\n",
        "    print(f'{price*jumlah:.2f}')\n",
        "  elif fruit == \"kiwi\":\n",
        "    price = 3.00\n",
        "    print(f'{price*jumlah:.2f}')\n",
        "  elif fruit == \"pineapple\":\n",
        "    price = 5.60\n",
        "    print(f'{price*jumlah:.2f}')\n",
        "  elif fruit == \"grapes\":\n",
        "    price = 4.20\n",
        "    print(f'{price*jumlah:.2f}')\n",
        "  else:\n",
        "    print(\"error\")\n",
        "else:\n",
        "  print(\"error\")\n"
      ],
      "metadata": {
        "colab": {
          "base_uri": "https://localhost:8080/"
        },
        "id": "HAw--wmSKaYa",
        "outputId": "d666ee7f-dd54-42c0-9e3e-3e28876436ad"
      },
      "execution_count": null,
      "outputs": [
        {
          "output_type": "stream",
          "name": "stdout",
          "text": [
            "tomato\n",
            "monday\n",
            "2\n",
            "error\n"
          ]
        }
      ]
    },
    {
      "cell_type": "code",
      "source": [
        "# 12.\tTrade Commissions\n",
        "city = input().lower()\n",
        "volume = float(input())\n",
        "\n",
        "if city == \"london\":\n",
        "  if 0 <= volume <= 500:\n",
        "    persen = 0.05\n",
        "    print(f\"{volume*persen:.2f}\")\n",
        "  elif 500 < volume <= 1000:\n",
        "    persen = 0.07\n",
        "    print(f\"{volume*persen:.2f}\")\n",
        "  elif 1000 < volume <= 10000:\n",
        "    persen = 0.08\n",
        "    print(f\"{volume*persen:.2f}\")\n",
        "  elif volume >= 10000:\n",
        "    persen = 0.12\n",
        "    print(f\"{volume*persen:.2f}\")\n",
        "  else:\n",
        "    print(\"error\")\n",
        "elif city == \"paris\":\n",
        "  if 0 <= volume <= 500:\n",
        "    persen = 0.045\n",
        "    print(f\"{volume*persen:.2f}\")\n",
        "  elif 500 < volume <= 1000:\n",
        "    persen = 0.075\n",
        "    print(f\"{volume*persen:.2f}\")\n",
        "  elif 1000 < volume <= 10000:\n",
        "    persen = 0.10\n",
        "    print(f\"{volume*persen:.2f}\")\n",
        "  elif volume >= 10000:\n",
        "    persen = 0.13\n",
        "    print(f\"{volume*persen:.2f}\")\n",
        "  else:\n",
        "    print(\"error\")\n",
        "elif city == \"rome\":\n",
        "  if 0 <= volume <= 500:\n",
        "    persen = 0.055\n",
        "    print(f\"{volume*persen:.2f}\")\n",
        "  elif 500 < volume <= 1000:\n",
        "    persen = 0.08\n",
        "    print(f\"{volume*persen:.2f}\")\n",
        "  elif 1000 < volume <= 10000:\n",
        "    persen = 0.12\n",
        "    print(f\"{volume*persen:.2f}\")\n",
        "  elif volume >= 10000:\n",
        "    persen = 0.145\n",
        "    print(f\"{volume*persen:.2f}\")\n",
        "  else:\n",
        "    print(\"error\")\n",
        "else:\n",
        "  print(\"error\")"
      ],
      "metadata": {
        "colab": {
          "base_uri": "https://localhost:8080/"
        },
        "id": "-LYsJ78kOeID",
        "outputId": "da9ec614-310a-4120-bf35-9d35df60fa72"
      },
      "execution_count": null,
      "outputs": [
        {
          "output_type": "stream",
          "name": "stdout",
          "text": [
            "paris\n",
            "1000.01\n",
            "100.00\n"
          ]
        }
      ]
    }
  ]
}