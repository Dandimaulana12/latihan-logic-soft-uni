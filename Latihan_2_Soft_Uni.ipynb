{
  "nbformat": 4,
  "nbformat_minor": 0,
  "metadata": {
    "colab": {
      "provenance": []
    },
    "kernelspec": {
      "name": "python3",
      "display_name": "Python 3"
    },
    "language_info": {
      "name": "python"
    }
  },
  "cells": [
    {
      "cell_type": "markdown",
      "source": [
        "#**teks tebal** Latihan Soft Uni yang kedua"
      ],
      "metadata": {
        "id": "iZGmoGPXMRpK"
      }
    },
    {
      "cell_type": "code",
      "source": [
        "# menghitung Excellent Result\n",
        "grade = float(input())\n",
        "\n",
        "if grade >= 5:\n",
        "  print(\"Excellent!\")\n"
      ],
      "metadata": {
        "colab": {
          "base_uri": "https://localhost:8080/"
        },
        "id": "VzfUNZv-Mb0O",
        "outputId": "cbcbba71-b8dd-485c-bf79-5bed39d17dc6"
      },
      "execution_count": null,
      "outputs": [
        {
          "output_type": "stream",
          "name": "stdout",
          "text": [
            "5.50\n",
            "Excellent!\n"
          ]
        }
      ]
    },
    {
      "cell_type": "code",
      "source": [
        "# 2.\tGreater Number\n",
        "number_one = int(input())\n",
        "number_two = int(input())\n",
        "\n",
        "if number_one > number_two:\n",
        "  print(number_one)\n",
        "else:\n",
        "  print(number_two)"
      ],
      "metadata": {
        "colab": {
          "base_uri": "https://localhost:8080/"
        },
        "id": "904y26xtNawe",
        "outputId": "5d554122-dd4d-47da-87a6-979161bdb3e0"
      },
      "execution_count": null,
      "outputs": [
        {
          "output_type": "stream",
          "name": "stdout",
          "text": [
            "3\n",
            "5\n",
            "5\n"
          ]
        }
      ]
    },
    {
      "cell_type": "code",
      "source": [],
      "metadata": {
        "id": "QaX2CZ-FOJt6"
      },
      "execution_count": null,
      "outputs": []
    },
    {
      "cell_type": "code",
      "source": [
        "# 4.    Password Guess\n",
        "password_input = input(\"masukan password: \")\n",
        "password = \"s3cr3t!P@ssw0rd\"\n",
        "if password_input == password:\n",
        "  print(\"Welcome\")\n",
        "else:\n",
        "  print(\"Wrong password!\")"
      ],
      "metadata": {
        "colab": {
          "base_uri": "https://localhost:8080/"
        },
        "id": "zaF3sB1GOiy-",
        "outputId": "fc5788ab-7d51-4689-f11c-7f18fcc71553"
      },
      "execution_count": null,
      "outputs": [
        {
          "output_type": "stream",
          "name": "stdout",
          "text": [
            "masukan password: s3cr3t!p@ss\n",
            "Wrong password!\n"
          ]
        }
      ]
    },
    {
      "cell_type": "code",
      "source": [
        "# 5.    Numbers from 100 to 200\n",
        "input_number = int(input())\n",
        "\n",
        "if input_number < 100:\n",
        "  print(\"Less than 100\")\n",
        "elif input_number >= 100 and input_number <= 200:\n",
        "  print(\"Between 100 and 200\")\n",
        "elif input_number > 200:\n",
        "  print(\"Greater than 200\")"
      ],
      "metadata": {
        "colab": {
          "base_uri": "https://localhost:8080/"
        },
        "id": "S2-7gJL3Pwhb",
        "outputId": "9895139f-b3db-45f5-ba86-8ef2d436206c"
      },
      "execution_count": null,
      "outputs": [
        {
          "output_type": "stream",
          "name": "stdout",
          "text": [
            "100\n",
            "Between 100 and 200\n"
          ]
        }
      ]
    },
    {
      "cell_type": "code",
      "source": [
        "# 6.    Speed Info\n",
        "speed = float(input())\n",
        "\n",
        "if speed <= 10:\n",
        "  print(\"slow\")\n",
        "elif speed > 10 and speed <= 50:\n",
        "  print(\"average\")\n",
        "elif speed > 50 and speed <= 150:\n",
        "  print(\"fast\")\n",
        "elif speed > 150 and speed <= 1000:\n",
        "  print(\"ultra fast\")\n",
        "else:\n",
        "  print(\"extremely fast\")"
      ],
      "metadata": {
        "colab": {
          "base_uri": "https://localhost:8080/"
        },
        "id": "bol1dUzkTH6J",
        "outputId": "38c092e1-cbad-409e-85dd-a660a278b696"
      },
      "execution_count": null,
      "outputs": [
        {
          "output_type": "stream",
          "name": "stdout",
          "text": [
            "3500\n",
            "extremely fast\n"
          ]
        }
      ]
    },
    {
      "cell_type": "code",
      "source": [
        "# 7.    Area of Figures\n",
        "from math import pi\n",
        "bangun_datar = input()\n",
        "if bangun_datar == \"square\":\n",
        "  sisi = float(input())\n",
        "  hasil_square = sisi * sisi\n",
        "  print(hasil_square)\n",
        "elif bangun_datar == \"rectangle\":\n",
        "  panjang = float(input())\n",
        "  lebar = float(input())\n",
        "  hasil_rectangle = panjang * lebar\n",
        "  print(hasil_rectangle)\n",
        "elif bangun_datar == \"circle\":\n",
        "  radius = float(input())\n",
        "  hasil_circle = pi * (radius**2)\n",
        "  print(hasil_circle)\n",
        "elif bangun_datar == \"triangle\":\n",
        "  alas = float(input())\n",
        "  tinggi = float(input())\n",
        "  hasil_triangle = 1/2 * (alas*tinggi)\n",
        "  print(hasil_triangle)"
      ],
      "metadata": {
        "colab": {
          "base_uri": "https://localhost:8080/"
        },
        "id": "3S5uLEulUvRH",
        "outputId": "8857b14b-2aa0-4ee6-a23f-f4f6f7a2462d"
      },
      "execution_count": null,
      "outputs": [
        {
          "output_type": "stream",
          "name": "stdout",
          "text": [
            "triangle\n",
            "4.5\n",
            "20\n",
            "45.0\n"
          ]
        }
      ]
    }
  ]
}