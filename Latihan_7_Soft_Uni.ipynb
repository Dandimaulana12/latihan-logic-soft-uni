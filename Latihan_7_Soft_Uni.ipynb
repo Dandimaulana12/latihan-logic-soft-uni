{
  "nbformat": 4,
  "nbformat_minor": 0,
  "metadata": {
    "colab": {
      "provenance": []
    },
    "kernelspec": {
      "name": "python3",
      "display_name": "Python 3"
    },
    "language_info": {
      "name": "python"
    }
  },
  "cells": [
    {
      "cell_type": "markdown",
      "source": [
        "#Latihan 8"
      ],
      "metadata": {
        "id": "m2LGe41vxof1"
      }
    },
    {
      "cell_type": "code",
      "execution_count": null,
      "metadata": {
        "id": "0LBgZjnMxjQj"
      },
      "outputs": [],
      "source": [
        "# 1.\tNumbers Ending in 7\n",
        "\n",
        "for i in range(7, 1000+1, 10):\n",
        "  print(i)"
      ]
    },
    {
      "cell_type": "code",
      "source": [
        "# 2.\tHalf Sum Element\n",
        "import sys\n",
        "n = int(input())\n",
        "\n",
        "maxnum = -sys.maxsize\n",
        "sum_number = 0\n",
        "\n",
        "for i in range(0, n):\n",
        "  num = int(input())\n",
        "  if num > maxnum:\n",
        "    maxnum = num\n",
        "\n",
        "  sum_number += num\n",
        "\n",
        "if maxnum == sum_number - maxnum:\n",
        "  print(\"Yes\")\n",
        "  print(f'Sum = {maxnum}')\n",
        "else:\n",
        "  print(\"No\")\n",
        "  sum_number = sum_number - maxnum\n",
        "  print(f'Diff = {abs(maxnum- sum_number)}')\n"
      ],
      "metadata": {
        "id": "7SqO_i8CyybY"
      },
      "execution_count": null,
      "outputs": []
    },
    {
      "cell_type": "code",
      "source": [
        "# 3.\tHistogram\n",
        "\n",
        "n = int(input())\n",
        "p1 = 0\n",
        "p2 = 0\n",
        "p3 = 0\n",
        "p4 = 0\n",
        "p5 = 0\n",
        "\n",
        "for i in range(1, n+1):\n",
        "  number = int(input())\n",
        "  if number < 200:\n",
        "    p1 = p1 + 1\n",
        "  elif 200 <= number <= 399:\n",
        "    p2 = p2 + 1\n",
        "  elif 400 <= number <= 599:\n",
        "    p3 = p3 + 1\n",
        "  elif 600 <= number <= 799:\n",
        "    p4 = p4 + 1\n",
        "  elif number > 799:\n",
        "    p5 = p5 + 1\n",
        "\n",
        "percentage_p1 = p1 / n * 100\n",
        "percentage_p2 = p2 / n * 100\n",
        "percentage_p3 = p3 / n * 100\n",
        "percentage_p4 = p4 / n * 100\n",
        "percentage_p5 = p5 / n * 100\n",
        "\n",
        "print(f'\\n{percentage_p1:.2f}%\\n{percentage_p2:.2f}%\\n{percentage_p3:.2f}%\\n{percentage_p4:.2f}%\\n{percentage_p5:.2f}%')"
      ],
      "metadata": {
        "id": "yhv_kAHoUdbS"
      },
      "execution_count": null,
      "outputs": []
    },
    {
      "cell_type": "code",
      "source": [
        "# 4.\tClever Lily\n",
        "\n",
        "age = int(input())\n",
        "price = float(input())\n",
        "unit = int(input())\n",
        "\n",
        "sum_toy = 0\n",
        "sum_money = 0\n",
        "cash = 10\n",
        "took_money = 0\n",
        "\n",
        "for i in range(1, age+1):\n",
        "  if i % 2 == 0:\n",
        "    sum_money = sum_money + cash\n",
        "    cash = cash + 10\n",
        "    took_money = took_money + 1\n",
        "  else:\n",
        "    sum_toy = sum_toy + 1\n",
        "\n",
        "price_toy = sum_toy * unit\n",
        "total = (sum_money + price_toy) - took_money\n",
        "\n",
        "if total < price:\n",
        "  print(f'No! {abs(price-total):.2f}')\n",
        "else:\n",
        "  print(f'Yes! {abs(total- price):.2f}')"
      ],
      "metadata": {
        "colab": {
          "base_uri": "https://localhost:8080/"
        },
        "id": "jMd9dbJedK2q",
        "outputId": "55f30d9c-589d-47c9-80c3-c4e058df3e2d"
      },
      "execution_count": null,
      "outputs": [
        {
          "output_type": "stream",
          "name": "stdout",
          "text": [
            "10\n",
            "170.00\n",
            "6\n",
            "Yes! 5.00\n"
          ]
        }
      ]
    },
    {
      "cell_type": "code",
      "source": [
        "# 5.\tSalary\n",
        "tab = int(input())\n",
        "gaji = int(input())\n",
        "\n",
        "for i in range(1, tab+1):\n",
        "  situs = input().lower()\n",
        "  if situs == 'facebook':\n",
        "    gaji = gaji - 150\n",
        "  elif situs == 'instagram':\n",
        "    gaji = gaji - 100\n",
        "  elif situs == 'reddit':\n",
        "    gaji = gaji - 50\n",
        "  if gaji <= 0:\n",
        "    print(\"You have lost your salary.\")\n",
        "    break\n",
        "\n",
        "if gaji != 0:\n",
        "  print(f'{gaji}')"
      ],
      "metadata": {
        "colab": {
          "base_uri": "https://localhost:8080/"
        },
        "id": "bPRTfX_Ln45q",
        "outputId": "0bfed00b-5323-4ff6-eee3-fa6457dfcd16"
      },
      "execution_count": null,
      "outputs": [
        {
          "output_type": "stream",
          "name": "stdout",
          "text": [
            "3\n",
            "500\n",
            "facebook\n",
            "stack\n",
            "softuni\n",
            "350\n"
          ]
        }
      ]
    },
    {
      "cell_type": "code",
      "source": [
        "# 6.\tOscars\n",
        "\n",
        "actor = input()\n",
        "academy_points= float(input())\n",
        "number_acesor = int(input())\n",
        "points = 1250.5\n",
        "total = academy_points\n",
        "\n",
        "for i in range(1, number_acesor+1):\n",
        "  acesor_name = input()\n",
        "  acesor_score = float(input())\n",
        "  total = total + ((len(acesor_name) * acesor_score) / 2)\n",
        "  if total >= 1250:\n",
        "    break;\n",
        "\n",
        "if total < points:\n",
        "  print(f'Sorry, {actor} you need {abs(points - total):.1f} more!')\n",
        "else:\n",
        "  print(f'Congratulations, {actor} got a nominee for leading role with {total:.1f}!')\n"
      ],
      "metadata": {
        "colab": {
          "base_uri": "https://localhost:8080/"
        },
        "id": "sO1QMdI1G-Vz",
        "outputId": "45d59948-ee2e-48e6-ae76-78fe49130c28"
      },
      "execution_count": null,
      "outputs": [
        {
          "output_type": "stream",
          "name": "stdout",
          "text": [
            "sandra bullock\n",
            "340\n",
            "5\n",
            "robert de niro\n",
            "50\n",
            "690.0\n",
            "julia roberts\n",
            "40.5\n",
            "953.25\n",
            "daniel day-lewis\n",
            "39.4\n",
            "1268.45\n",
            "Sorry, sandra bullock you need 910.5 more!\n"
          ]
        }
      ]
    },
    {
      "cell_type": "code",
      "source": [
        "# 7. Trekking Mania\n",
        "\n",
        "\n",
        "number_group = int(input())\n",
        "mokalu = 0\n",
        "mont_blanc = 0\n",
        "kilimanjaro = 0\n",
        "k2 = 0\n",
        "everest = 0\n",
        "jumlah = 0\n",
        "\n",
        "for i in range(1, number_group+1):\n",
        "  number = int(input())\n",
        "  if number < 6:\n",
        "    mokalu = mokalu + number\n",
        "  elif 6 <= number <= 12:\n",
        "    mont_blanc = mont_blanc + number\n",
        "  elif 13 <= number <= 25:\n",
        "    kilimanjaro = kilimanjaro + number\n",
        "  elif 26 <= number <= 40:\n",
        "    k2 = k2 + number\n",
        "  elif number > 40:\n",
        "    everest = everest + number\n",
        "\n",
        "  jumlah = jumlah + number\n",
        "\n",
        "percentage_mokalu = mokalu / jumlah * 100\n",
        "percentage_montblanc = mont_blanc / jumlah * 100\n",
        "percentage_kilimanjaro = kilimanjaro / jumlah * 100\n",
        "percentage_k2 = k2 / jumlah * 100\n",
        "percentage_everest = everest / jumlah * 100\n",
        "\n",
        "print(f'\\n{percentage_mokalu:.2f}%\\n{percentage_montblanc:.2f}%\\n{percentage_kilimanjaro:.2f}%\\n{percentage_k2:.2f}%\\n{percentage_everest:.2f}%')"
      ],
      "metadata": {
        "colab": {
          "base_uri": "https://localhost:8080/"
        },
        "id": "gqr2Ui5PPagO",
        "outputId": "fc7be0fd-2688-4386-aff2-0a16069d9274"
      },
      "execution_count": null,
      "outputs": [
        {
          "output_type": "stream",
          "name": "stdout",
          "text": [
            "10\n",
            "10\n",
            "5\n",
            "1\n",
            "100\n",
            "12\n",
            "26\n",
            "17\n",
            "37\n",
            "40\n",
            "78\n",
            "326\n"
          ]
        }
      ]
    },
    {
      "cell_type": "code",
      "source": [
        "# 8. Tennis Ranklist\n",
        "import math\n",
        "\n",
        "number_tour = int(input())\n",
        "number_points = int(input())\n",
        "points = 0\n",
        "points_w = 2000\n",
        "points_f = 1200\n",
        "points_sf = 720\n",
        "jumlah = 0\n",
        "\n",
        "for i in range(1, number_tour + 1):\n",
        "  status_tour = input().lower()\n",
        "  if status_tour == 'w':\n",
        "    number_points = number_points + points_w\n",
        "    jumlah = jumlah + points_w\n",
        "    points = points + 1\n",
        "  elif status_tour == 'f':\n",
        "    number_points = number_points + points_f\n",
        "    jumlah = jumlah + points_f\n",
        "  elif status_tour == 'sf':\n",
        "    number_points = number_points + points_sf\n",
        "    jumlah = jumlah + points_sf\n",
        "\n",
        "print(f'Final points: {number_points}')\n",
        "print(f'Average points: {math.floor(jumlah/number_tour)}')\n",
        "print(f'{(points/number_tour) * 100:.2f}%')\n",
        "\n"
      ],
      "metadata": {
        "colab": {
          "base_uri": "https://localhost:8080/"
        },
        "id": "GtudYyUGT9fD",
        "outputId": "bdaa5435-b3a2-4c93-9a9c-415a43c7ddc3"
      },
      "execution_count": null,
      "outputs": [
        {
          "output_type": "stream",
          "name": "stdout",
          "text": [
            "4\n",
            "750\n",
            "sf\n",
            "w\n",
            "sf\n",
            "w\n",
            "Final points: 6190\n",
            "Average points: 1360\n",
            "50.00%\n"
          ]
        }
      ]
    }
  ]
}