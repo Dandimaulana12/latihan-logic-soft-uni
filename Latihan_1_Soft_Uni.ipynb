{
  "nbformat": 4,
  "nbformat_minor": 0,
  "metadata": {
    "colab": {
      "provenance": []
    },
    "kernelspec": {
      "name": "python3",
      "display_name": "Python 3"
    },
    "language_info": {
      "name": "python"
    }
  },
  "cells": [
    {
      "cell_type": "code",
      "execution_count": null,
      "metadata": {
        "colab": {
          "base_uri": "https://localhost:8080/"
        },
        "id": "VZx1srFpOYoA",
        "outputId": "28f35c5e-d0d3-4e0a-ce9b-a9ebd5a85906"
      },
      "outputs": [
        {
          "output_type": "stream",
          "name": "stdout",
          "text": [
            "masukan angka: 100\n",
            "179.549\n"
          ]
        }
      ],
      "source": [
        "''''\n",
        "soal no 1\n",
        "'''\n",
        "\n",
        "usd = float(input(\"masukan angka: \"))\n",
        "bgn = usd * 1.79549\n",
        "print(bgn)"
      ]
    },
    {
      "cell_type": "code",
      "source": [
        "''''\n",
        "soal no 2\n",
        "'''\n",
        "# import math\n",
        "from math import pi\n",
        "\n",
        "radians = float(input(\"masukan angka radians: \"))\n",
        "degrees = radians * 180 / pi\n",
        "print(int(degrees))"
      ],
      "metadata": {
        "colab": {
          "base_uri": "https://localhost:8080/"
        },
        "id": "SNcfNKEFP3vA",
        "outputId": "f2b578f7-9a0b-4cb5-e904-b7eb14277ecd"
      },
      "execution_count": null,
      "outputs": [
        {
          "output_type": "stream",
          "name": "stdout",
          "text": [
            "masukan angka radians: 3.1416\n",
            "180\n"
          ]
        }
      ]
    },
    {
      "cell_type": "code",
      "source": [
        "''''\n",
        "soal no 3\n",
        "'''\n",
        "import math\n",
        "deposit = float(input(\"masukan deposit: \"))\n",
        "term = float(input(\"masukan term: \"))\n",
        "annual = float(input(\"masukan annual: \"))\n",
        "\n",
        "amount = deposit+term*((deposit*annual / 100) / 12)\n",
        "\n",
        "print(amount)"
      ],
      "metadata": {
        "colab": {
          "base_uri": "https://localhost:8080/"
        },
        "id": "Jvn459usQcG-",
        "outputId": "e1914b62-42c0-4119-9fb5-b92ac8891968"
      },
      "execution_count": null,
      "outputs": [
        {
          "output_type": "stream",
          "name": "stdout",
          "text": [
            "masukan deposit: 2350\n",
            "masukan term: 6\n",
            "masukan annual: 7\n",
            "2432.25\n"
          ]
        }
      ]
    },
    {
      "cell_type": "code",
      "source": [
        "number_page = int(input(\"input number of pages: \"))\n",
        "page = int(input(\"input number of pages: \"))\n",
        "number_days = int(input(\"input number of days: \"))\n",
        "\n",
        "amount_read = number_page / page\n",
        "amount_hours = amount_read / number_days\n",
        "\n",
        "print(int(amount_hours))\n"
      ],
      "metadata": {
        "colab": {
          "base_uri": "https://localhost:8080/"
        },
        "id": "da_FXbJARZ5f",
        "outputId": "cc2e1622-c10e-41f0-cb78-de6ca357eb40"
      },
      "execution_count": null,
      "outputs": [
        {
          "output_type": "stream",
          "name": "stdout",
          "text": [
            "input number of pages: 432\n",
            "input number of pages: 15\n",
            "input number of days: 4\n",
            "7\n"
          ]
        }
      ]
    },
    {
      "cell_type": "code",
      "source": [
        "pens = int(input(\"input pens: \"))\n",
        "markers = int(input(\"input markers: \"))\n",
        "detergent = int(input(\"input detergens: \"))\n",
        "discount = int(input(\"input diskon: \"))\n",
        "\n",
        "amount_pens = pens * 5.80\n",
        "amount_markers = markers * 7.20\n",
        "amount_detergent = detergent * 1.20\n",
        "amount_discount = discount / 100\n",
        "\n",
        "amount_product = (amount_pens + amount_markers + amount_detergent)\n",
        "amount_all = amount_product - (amount_product * amount_discount)\n",
        "print(amount_all)"
      ],
      "metadata": {
        "colab": {
          "base_uri": "https://localhost:8080/"
        },
        "id": "c9QU-kmdX8Aq",
        "outputId": "ada6293b-30b1-4a91-961a-c8dc364d9842"
      },
      "execution_count": null,
      "outputs": [
        {
          "output_type": "stream",
          "name": "stdout",
          "text": [
            "input pens: 2\n",
            "input markers: 3\n",
            "input detergens: 4\n",
            "input diskon: 25\n",
            "28.5\n"
          ]
        }
      ]
    },
    {
      "cell_type": "code",
      "source": [
        "nylon_price = 1.50\n",
        "paint_price =14.50\n",
        "tiner_price = 5.00\n",
        "\n",
        "nylon = int(input(\"input nylon: \"))\n",
        "nylon = nylon + 2\n",
        "\n",
        "paint = int(input(\"input paint: \"))\n",
        "paint = paint + (paint *0.10)\n",
        "\n",
        "tiner = int(input(\"input detergent: \"))\n",
        "hours = int(input(\"input hours: \"))\n",
        "\n",
        "total = nylon * nylon_price +paint * paint_price + tiner * tiner_price + 0.40\n",
        "\n",
        "worker = (total * 30/100) * hours\n",
        "\n",
        "final = total + worker\n",
        "\n",
        "print(final)"
      ],
      "metadata": {
        "colab": {
          "base_uri": "https://localhost:8080/"
        },
        "id": "Rdzs7ApSbEbR",
        "outputId": "85c2bdc5-8457-4efe-d86c-0284f9178a2d"
      },
      "execution_count": null,
      "outputs": [
        {
          "output_type": "stream",
          "name": "stdout",
          "text": [
            "input nylon: 5\n",
            "input paint: 10\n",
            "input detergent: 10\n",
            "input hours: 1\n",
            "286.52\n"
          ]
        }
      ]
    },
    {
      "cell_type": "code",
      "source": [
        "chicken_price = 10.35\n",
        "fish_price = 12.40\n",
        "vegetarian_price = 8.15\n",
        "\n",
        "chicken = int(input(\"input chicken: \"))\n",
        "chicken = chicken * chicken_price\n",
        "\n",
        "fish = int(input(\"input fish: \"))\n",
        "fish = fish * fish_price\n",
        "\n",
        "vegetarian = int(input(\"input vegetarian: \"))\n",
        "vegetarian = vegetarian * vegetarian_price\n",
        "\n",
        "total_produk = chicken + fish + vegetarian\n",
        "diskon = total_produk *(20/100)\n",
        "\n",
        "fee_delivery = 2.50\n",
        "\n",
        "total_bayar = total_produk + diskon + fee_delivery\n",
        "print(total_bayar)"
      ],
      "metadata": {
        "colab": {
          "base_uri": "https://localhost:8080/"
        },
        "id": "4mpj7Q2Nnlb3",
        "outputId": "5367b45c-b39a-4822-dc06-da537ad5626b"
      },
      "execution_count": null,
      "outputs": [
        {
          "output_type": "stream",
          "name": "stdout",
          "text": [
            "input chicken: 9\n",
            "input fish: 2\n",
            "input vegetarian: 6\n",
            "202.72\n"
          ]
        }
      ]
    },
    {
      "cell_type": "code",
      "source": [
        "training_year = int(input(\"input training year: \"))\n",
        "price_sneaker = training_year * 40/100\n",
        "price_sneaker = training_year - price_sneaker\n",
        "\n",
        "price_sneaker2 = price_sneaker * 20 /100\n",
        "price_sneaker2 = price_sneaker - price_sneaker2\n",
        "\n",
        "price_ball = price_sneaker2 * 1/4\n",
        "price_aksesoris = price_ball * 1/5\n",
        "\n",
        "total = training_year + price_sneaker + price_sneaker2 + price_ball + price_aksesoris\n",
        "print(total)"
      ],
      "metadata": {
        "colab": {
          "base_uri": "https://localhost:8080/"
        },
        "id": "WuiF0cKDvCKr",
        "outputId": "1538add8-64f7-4922-c090-c8d1ee87e4bb"
      },
      "execution_count": null,
      "outputs": [
        {
          "output_type": "stream",
          "name": "stdout",
          "text": [
            "input training year: 550\n",
            "1223.2\n"
          ]
        }
      ]
    },
    {
      "cell_type": "code",
      "source": [
        "length = int(input(\"input length: \"))\n",
        "width = int(input(\"input width: \"))\n",
        "height = int(input(\"input height: \"))\n",
        "percentage = float(input(\"input percentage: \"))\n",
        "\n",
        "volume = length * width * height\n",
        "volume_parse_liter = volume / 1000\n",
        "persentase = percentage / 100\n",
        "jumlah = volume_parse_liter * (1 - persentase)\n",
        "\n",
        "print(jumlah)"
      ],
      "metadata": {
        "colab": {
          "base_uri": "https://localhost:8080/"
        },
        "id": "s6SUfIA-xyOK",
        "outputId": "e423cd4e-c819-4c15-a933-f8854c2fa871"
      },
      "execution_count": null,
      "outputs": [
        {
          "output_type": "stream",
          "name": "stdout",
          "text": [
            "input length: 105\n",
            "input width: 77\n",
            "input height: 89\n",
            "input percentage: 18.5\n",
            "586.445475\n"
          ]
        }
      ]
    }
  ]
}